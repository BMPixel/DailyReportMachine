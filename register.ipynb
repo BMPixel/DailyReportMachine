{
 "cells": [
  {
   "cell_type": "code",
   "execution_count": 145,
   "metadata": {},
   "outputs": [],
   "source": [
    "from selenium import webdriver\n",
    "import time\n",
    "import random\n",
    "driver = webdriver.Chrome()"
   ]
  },
  {
   "cell_type": "code",
   "execution_count": 142,
   "metadata": {},
   "outputs": [
    {
     "ename": "NoAlertPresentException",
     "evalue": "Message: no such alert\n  (Session info: chrome=85.0.4183.102)\n",
     "output_type": "error",
     "traceback": [
      "\u001b[0;31m---------------------------------------------------------------------------\u001b[0m",
      "\u001b[0;31mNoAlertPresentException\u001b[0m                   Traceback (most recent call last)",
      "\u001b[0;32m<ipython-input-142-1bab3d78099e>\u001b[0m in \u001b[0;36m<module>\u001b[0;34m\u001b[0m\n\u001b[1;32m     12\u001b[0m \u001b[0mdriver\u001b[0m\u001b[0;34m.\u001b[0m\u001b[0mexecute_script\u001b[0m\u001b[0;34m(\u001b[0m\u001b[0;34m\"add();\"\u001b[0m\u001b[0;34m)\u001b[0m\u001b[0;34m\u001b[0m\u001b[0;34m\u001b[0m\u001b[0m\n\u001b[1;32m     13\u001b[0m \u001b[0mtime\u001b[0m\u001b[0;34m.\u001b[0m\u001b[0msleep\u001b[0m\u001b[0;34m(\u001b[0m\u001b[0;36m1\u001b[0m\u001b[0;34m)\u001b[0m\u001b[0;34m\u001b[0m\u001b[0;34m\u001b[0m\u001b[0m\n\u001b[0;32m---> 14\u001b[0;31m \u001b[0;32mif\u001b[0m \u001b[0mdriver\u001b[0m\u001b[0;34m.\u001b[0m\u001b[0mswitch_to\u001b[0m\u001b[0;34m.\u001b[0m\u001b[0malert\u001b[0m\u001b[0;34m:\u001b[0m\u001b[0;34m\u001b[0m\u001b[0;34m\u001b[0m\u001b[0m\n\u001b[0m\u001b[1;32m     15\u001b[0m     \u001b[0mdriver\u001b[0m\u001b[0;34m.\u001b[0m\u001b[0mswitch_to\u001b[0m\u001b[0;34m.\u001b[0m\u001b[0malert\u001b[0m\u001b[0;34m.\u001b[0m\u001b[0maccept\u001b[0m\u001b[0;34m(\u001b[0m\u001b[0;34m)\u001b[0m\u001b[0;34m\u001b[0m\u001b[0;34m\u001b[0m\u001b[0m\n",
      "\u001b[0;32m/usr/local/lib/python3.8/site-packages/selenium/webdriver/remote/switch_to.py\u001b[0m in \u001b[0;36malert\u001b[0;34m(self)\u001b[0m\n\u001b[1;32m     53\u001b[0m         \"\"\"\n\u001b[1;32m     54\u001b[0m         \u001b[0malert\u001b[0m \u001b[0;34m=\u001b[0m \u001b[0mAlert\u001b[0m\u001b[0;34m(\u001b[0m\u001b[0mself\u001b[0m\u001b[0;34m.\u001b[0m\u001b[0m_driver\u001b[0m\u001b[0;34m)\u001b[0m\u001b[0;34m\u001b[0m\u001b[0;34m\u001b[0m\u001b[0m\n\u001b[0;32m---> 55\u001b[0;31m         \u001b[0malert\u001b[0m\u001b[0;34m.\u001b[0m\u001b[0mtext\u001b[0m\u001b[0;34m\u001b[0m\u001b[0;34m\u001b[0m\u001b[0m\n\u001b[0m\u001b[1;32m     56\u001b[0m         \u001b[0;32mreturn\u001b[0m \u001b[0malert\u001b[0m\u001b[0;34m\u001b[0m\u001b[0;34m\u001b[0m\u001b[0m\n\u001b[1;32m     57\u001b[0m \u001b[0;34m\u001b[0m\u001b[0m\n",
      "\u001b[0;32m/usr/local/lib/python3.8/site-packages/selenium/webdriver/common/alert.py\u001b[0m in \u001b[0;36mtext\u001b[0;34m(self)\u001b[0m\n\u001b[1;32m     65\u001b[0m         \"\"\"\n\u001b[1;32m     66\u001b[0m         \u001b[0;32mif\u001b[0m \u001b[0mself\u001b[0m\u001b[0;34m.\u001b[0m\u001b[0mdriver\u001b[0m\u001b[0;34m.\u001b[0m\u001b[0mw3c\u001b[0m\u001b[0;34m:\u001b[0m\u001b[0;34m\u001b[0m\u001b[0;34m\u001b[0m\u001b[0m\n\u001b[0;32m---> 67\u001b[0;31m             \u001b[0;32mreturn\u001b[0m \u001b[0mself\u001b[0m\u001b[0;34m.\u001b[0m\u001b[0mdriver\u001b[0m\u001b[0;34m.\u001b[0m\u001b[0mexecute\u001b[0m\u001b[0;34m(\u001b[0m\u001b[0mCommand\u001b[0m\u001b[0;34m.\u001b[0m\u001b[0mW3C_GET_ALERT_TEXT\u001b[0m\u001b[0;34m)\u001b[0m\u001b[0;34m[\u001b[0m\u001b[0;34m\"value\"\u001b[0m\u001b[0;34m]\u001b[0m\u001b[0;34m\u001b[0m\u001b[0;34m\u001b[0m\u001b[0m\n\u001b[0m\u001b[1;32m     68\u001b[0m         \u001b[0;32melse\u001b[0m\u001b[0;34m:\u001b[0m\u001b[0;34m\u001b[0m\u001b[0;34m\u001b[0m\u001b[0m\n\u001b[1;32m     69\u001b[0m             \u001b[0;32mreturn\u001b[0m \u001b[0mself\u001b[0m\u001b[0;34m.\u001b[0m\u001b[0mdriver\u001b[0m\u001b[0;34m.\u001b[0m\u001b[0mexecute\u001b[0m\u001b[0;34m(\u001b[0m\u001b[0mCommand\u001b[0m\u001b[0;34m.\u001b[0m\u001b[0mGET_ALERT_TEXT\u001b[0m\u001b[0;34m)\u001b[0m\u001b[0;34m[\u001b[0m\u001b[0;34m\"value\"\u001b[0m\u001b[0;34m]\u001b[0m\u001b[0;34m\u001b[0m\u001b[0;34m\u001b[0m\u001b[0m\n",
      "\u001b[0;32m/usr/local/lib/python3.8/site-packages/selenium/webdriver/remote/webdriver.py\u001b[0m in \u001b[0;36mexecute\u001b[0;34m(self, driver_command, params)\u001b[0m\n\u001b[1;32m    319\u001b[0m         \u001b[0mresponse\u001b[0m \u001b[0;34m=\u001b[0m \u001b[0mself\u001b[0m\u001b[0;34m.\u001b[0m\u001b[0mcommand_executor\u001b[0m\u001b[0;34m.\u001b[0m\u001b[0mexecute\u001b[0m\u001b[0;34m(\u001b[0m\u001b[0mdriver_command\u001b[0m\u001b[0;34m,\u001b[0m \u001b[0mparams\u001b[0m\u001b[0;34m)\u001b[0m\u001b[0;34m\u001b[0m\u001b[0;34m\u001b[0m\u001b[0m\n\u001b[1;32m    320\u001b[0m         \u001b[0;32mif\u001b[0m \u001b[0mresponse\u001b[0m\u001b[0;34m:\u001b[0m\u001b[0;34m\u001b[0m\u001b[0;34m\u001b[0m\u001b[0m\n\u001b[0;32m--> 321\u001b[0;31m             \u001b[0mself\u001b[0m\u001b[0;34m.\u001b[0m\u001b[0merror_handler\u001b[0m\u001b[0;34m.\u001b[0m\u001b[0mcheck_response\u001b[0m\u001b[0;34m(\u001b[0m\u001b[0mresponse\u001b[0m\u001b[0;34m)\u001b[0m\u001b[0;34m\u001b[0m\u001b[0;34m\u001b[0m\u001b[0m\n\u001b[0m\u001b[1;32m    322\u001b[0m             response['value'] = self._unwrap_value(\n\u001b[1;32m    323\u001b[0m                 response.get('value', None))\n",
      "\u001b[0;32m/usr/local/lib/python3.8/site-packages/selenium/webdriver/remote/errorhandler.py\u001b[0m in \u001b[0;36mcheck_response\u001b[0;34m(self, response)\u001b[0m\n\u001b[1;32m    240\u001b[0m                 \u001b[0malert_text\u001b[0m \u001b[0;34m=\u001b[0m \u001b[0mvalue\u001b[0m\u001b[0;34m[\u001b[0m\u001b[0;34m'alert'\u001b[0m\u001b[0;34m]\u001b[0m\u001b[0;34m.\u001b[0m\u001b[0mget\u001b[0m\u001b[0;34m(\u001b[0m\u001b[0;34m'text'\u001b[0m\u001b[0;34m)\u001b[0m\u001b[0;34m\u001b[0m\u001b[0;34m\u001b[0m\u001b[0m\n\u001b[1;32m    241\u001b[0m             \u001b[0;32mraise\u001b[0m \u001b[0mexception_class\u001b[0m\u001b[0;34m(\u001b[0m\u001b[0mmessage\u001b[0m\u001b[0;34m,\u001b[0m \u001b[0mscreen\u001b[0m\u001b[0;34m,\u001b[0m \u001b[0mstacktrace\u001b[0m\u001b[0;34m,\u001b[0m \u001b[0malert_text\u001b[0m\u001b[0;34m)\u001b[0m\u001b[0;34m\u001b[0m\u001b[0;34m\u001b[0m\u001b[0m\n\u001b[0;32m--> 242\u001b[0;31m         \u001b[0;32mraise\u001b[0m \u001b[0mexception_class\u001b[0m\u001b[0;34m(\u001b[0m\u001b[0mmessage\u001b[0m\u001b[0;34m,\u001b[0m \u001b[0mscreen\u001b[0m\u001b[0;34m,\u001b[0m \u001b[0mstacktrace\u001b[0m\u001b[0;34m)\u001b[0m\u001b[0;34m\u001b[0m\u001b[0;34m\u001b[0m\u001b[0m\n\u001b[0m\u001b[1;32m    243\u001b[0m \u001b[0;34m\u001b[0m\u001b[0m\n\u001b[1;32m    244\u001b[0m     \u001b[0;32mdef\u001b[0m \u001b[0m_value_or_default\u001b[0m\u001b[0;34m(\u001b[0m\u001b[0mself\u001b[0m\u001b[0;34m,\u001b[0m \u001b[0mobj\u001b[0m\u001b[0;34m,\u001b[0m \u001b[0mkey\u001b[0m\u001b[0;34m,\u001b[0m \u001b[0mdefault\u001b[0m\u001b[0;34m)\u001b[0m\u001b[0;34m:\u001b[0m\u001b[0;34m\u001b[0m\u001b[0;34m\u001b[0m\u001b[0m\n",
      "\u001b[0;31mNoAlertPresentException\u001b[0m: Message: no such alert\n  (Session info: chrome=85.0.4183.102)\n"
     ]
    }
   ],
   "source": [
    "# 初始打开网站\n",
    "driver.get(\"https://xg.hit.edu.cn/zhxy-xgzs/xg_mobile/shsj/loginChange\")\n",
    "driver.find_element_by_css_selector(\"button\").click()\n",
    "if len(driver.find_elements_by_css_selector(\".footer_img4\")) > 0:\n",
    "    # 退出\n",
    "    driver.find_element_by_css_selector(\".footer_img4\").click()\n",
    "    driver.find_element_by_css_selector(\"button\").click()\n",
    "driver.find_element_by_css_selector(\"input#username\").send_keys(\"7203610819\")\n",
    "driver.find_element_by_css_selector(\"input#password\").send_keys(\"110058\")\n",
    "driver.find_element_by_css_selector(\"button.auth_login_btn\").click()\n",
    "driver.get(\"https://xg.hit.edu.cn/zhxy-xgzs/xg_mobile/xs/yqxx\")\n",
    "driver.execute_script(\"add();\")\n",
    "time.sleep(1)\n",
    "# if driver.switch_to.alert:\n",
    "#     driver.switch_to.alert.accept()"
   ]
  },
  {
   "cell_type": "code",
   "execution_count": 143,
   "metadata": {},
   "outputs": [],
   "source": [
    "driver.get(\"https://xg.hit.edu.cn/zhxy-xgzs/xg_mobile/xsTwsb\")\n",
    "time.sleep(1)\n",
    "driver.execute_script(\"add()\")\n",
    "time.sleep(1)\n",
    "# time.sleep(1)\n",
    "# driver.execute_script(\"tx(1)\")\n",
    "\n",
    "\n",
    "\n",
    "\n",
    "js1 = \"\"\"\n",
    "        var data = [];\n",
    "\t\tdata = {\n",
    "\t\t\tid :  twxx.id,\n",
    "\t\t    sdid1   : twxx.sdid1 ,\n",
    "\t\t    tw1 : 36.2 ,\n",
    "\t\t    fr1 : 0 ,\n",
    "\t\t    bs : \"1\"\n",
    "\t\t}\n",
    "    \n",
    "    $.ajax({\n",
    "        url  : \"/zhxy-xgzs/xg_mobile/xsTwsb/updateTwsb\",\n",
    "        type : \"POST\",\n",
    "        data : {info:JSON.stringify({data : data})},\n",
    "        dataType : \"json\",\n",
    "        success:function(result){\n",
    "            if(result.isSuccess){\n",
    "            \t$.toast(\"成功\");\n",
    "            \tgetXsjbxx();\n",
    "            \tgetTwsb();\n",
    "            }else{\n",
    "            \t$.toptip(result.msg);\n",
    "            }\n",
    "        },\n",
    "        error : function(){\n",
    "        \t$.toptip(\"保存体温信息失败\");\n",
    "        }\n",
    "    });\n",
    "\"\"\"\n",
    "\n",
    "js2 = \"\"\"\n",
    "        var data = [];\n",
    "\t\tdata = {\n",
    "\t\t\tid :  twxx.id,\n",
    "\t\t    sdid2   : twxx.sdid2 ,\n",
    "\t\t    tw2 : 36.2 ,\n",
    "\t\t    fr2 : 0 ,\n",
    "\t\t    bs : \"2\"\n",
    "\t\t}\n",
    "    \n",
    "    $.ajax({\n",
    "        url  : \"/zhxy-xgzs/xg_mobile/xsTwsb/updateTwsb\",\n",
    "        type : \"POST\",\n",
    "        data : {info:JSON.stringify({data : data})},\n",
    "        dataType : \"json\",\n",
    "        success:function(result){\n",
    "            if(result.isSuccess){\n",
    "            \t$.toast(\"成功\");\n",
    "            \tgetXsjbxx();\n",
    "            \tgetTwsb();\n",
    "            }else{\n",
    "            \t$.toptip(result.msg);\n",
    "            }\n",
    "        },\n",
    "        error : function(){\n",
    "        \t$.toptip(\"保存体温信息失败\");\n",
    "        }\n",
    "    });\n",
    "\"\"\"\n",
    "driver.execute_script(js1)\n",
    "time.sleep(1)\n",
    "driver.execute_script(js2)"
   ]
  },
  {
   "cell_type": "code",
   "execution_count": 144,
   "metadata": {},
   "outputs": [],
   "source": [
    "# 每日填报\n",
    "\n",
    "# driver.find_element_by_css_selector(\"div.right_btn\").click()\n",
    "# edit_btn = None\n",
    "# for elem in driver.find_elements_by_css_selector(\"div\"):\n",
    "#     if elem.text == \"修改\":\n",
    "#         edit_btn = elem\n",
    "#         break\n",
    "# edit_btn.parentt.get_attribute(\"innerHTML\")\n",
    "js = \"\"\"\n",
    "$.ajax({\n",
    "\t\turl : \"/zhxy-xgzs/xg_mobile/xs/getYqxxList\", \n",
    "\t\ttype : \"Post\",\n",
    "\t\tdataType : \"json\", \n",
    "\t\tsuccess : function(result) { \n",
    "\t\t\tif (!result.isSuccess) {\n",
    "                return -1\n",
    "\t\t\t} else { \n",
    "\t\t\t\tvar data = result.module.data;\n",
    "                //return data[0]\n",
    "                $(\"<div id='info'>\" + data[0].id + \"</div>\").appendTo($(\"body\"));       \n",
    "                }\n",
    "            }\n",
    "        })\n",
    "\n",
    "\"\"\"\n",
    "driver.execute_script(js)\n",
    "time.sleep(1)\n",
    "\n",
    "driver.get('https://xg.hit.edu.cn/zhxy-xgzs/xg_mobile/xs/editYqxx?id=' + driver.find_element_by_id(\"info\").text + '&zt=00')\n",
    "\n",
    "driver.find_element_by_css_selector(\"#txfscheckbox\").click()\n",
    "\n",
    "driver.execute_script(\"save()\")\n"
   ]
  },
  {
   "cell_type": "code",
   "execution_count": 184,
   "metadata": {},
   "outputs": [
    {
     "data": {
      "text/plain": [
       "[('7203610830', 'HIT2020@wym'),\n",
       " ('7203610819', '110058'),\n",
       " ('7203610818', '163215'),\n",
       " ('7203610816', '123456a'),\n",
       " ('7203610817', '282435')]"
      ]
     },
     "execution_count": 184,
     "metadata": {},
     "output_type": "execute_result"
    }
   ],
   "source": [
    "li = []\n",
    "with open(\"./Accounts.txt\", \"r\") as f:\n",
    "    l = f.readline()\n",
    "    while l:\n",
    "        pair = l.split()\n",
    "        li.append((pair[0], pair[1]))\n",
    "        l = f.readline()"
   ]
  }
 ],
 "metadata": {
  "kernelspec": {
   "display_name": "Python 3",
   "language": "python",
   "name": "python3"
  },
  "language_info": {
   "codemirror_mode": {
    "name": "ipython",
    "version": 3
   },
   "file_extension": ".py",
   "mimetype": "text/x-python",
   "name": "python",
   "nbconvert_exporter": "python",
   "pygments_lexer": "ipython3",
   "version": "3.8.5"
  }
 },
 "nbformat": 4,
 "nbformat_minor": 4
}
